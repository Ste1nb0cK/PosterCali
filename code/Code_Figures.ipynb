{
 "cells": [
  {
   "cell_type": "code",
   "execution_count": 94,
   "id": "ca7fdb77-8ab6-42a8-9cca-2e26a980e1df",
   "metadata": {
    "tags": []
   },
   "outputs": [
    {
     "data": {
      "text/plain": [
       "<matplotlib.patches.FancyArrowPatch at 0x7f1e86734760>"
      ]
     },
     "execution_count": 94,
     "metadata": {},
     "output_type": "execute_result"
    },
    {
     "data": {
      "image/png": "[encoded data removed]",
      "text/plain": [
       "<Figure size 1000x200 with 1 Axes>"
      ]
     },
     "metadata": {},
     "output_type": "display_data"
    }
   ],
   "source": [
    "import numpy as np\n",
    "import matplotlib.pyplot as plt\n",
    "import matplotlib.pyplot as plt\n",
    "import matplotlib.patches as patches\n",
    "from matplotlib.patches import FancyArrowPatch\n",
    "from matplotlib.patches import Arc\n",
    "\n",
    "# Enable LaTeX in Matplotlib\n",
    "plt.rcParams['text.usetex'] = True\n",
    "# Setting the font family\n",
    "#plt.rcParams['font.serif'] = 'Times New Roman'\n",
    "# Setting the mathtext font\n",
    "plt.rcParams['mathtext.fontset'] = 'cm'\n",
    "# Create a new figure and axis\n",
    "fig, ax = plt.subplots(figsize=(10, 2))\n",
    "ax.set_xlim(0, 10)\n",
    "ax.set_ylim(0, 2)\n",
    "ax.set_aspect(aspect='auto')\n",
    "plt.axis('off')\n",
    "#########\n",
    "black_code = '#272727'\n",
    "###Add the rho_0 text\n",
    "rho_0_x = 0.5\n",
    "rho_0_y = 1.0\n",
    "rho_0_text = r'$\\rho_{\\scriptscriptstyle 0}$'\n",
    "ax.text(rho_0_x,rho_0_y, rho_0_text, color=black_code, fontsize=30, ha='center', va='center')\n",
    "###Draw the first arrow\n",
    "#Define the initial position of the arrow\n",
    "arrow_1_x_in = rho_0_x + 0.4\n",
    "arrow_1_y_in = rho_0_y\n",
    "arrow_1_in = (arrow_1_x_in, arrow_1_y_in )\n",
    "#Define the Final position of the arrow\n",
    "arrow_1_x_out = arrow_1_x_in + 0.7\n",
    "arrow_1_y_out = arrow_1_y_in \n",
    "arrow_1_out = (arrow_1_x_out, arrow_1_y_out )\n",
    "arrow = FancyArrowPatch(arrow_1_in, arrow_1_out, arrowstyle='-', mutation_scale=20, \n",
    "                        color=black_code, linewidth=2.5)\n",
    "ax.add_patch(arrow)\n",
    "###Draw the first box\n",
    "#Low left corner\n",
    "low_left_corner_1 = (arrow_1_x_out+0.1, arrow_1_y_out-0.5) \n",
    "width_1 = 1\n",
    "height_1 = 1\n",
    "rect = patches.Rectangle(low_left_corner_1, width_1, height_1 , linewidth=2.5, edgecolor=black_code, facecolor='none')\n",
    "ax.add_patch(rect)\n",
    "###Draw the varespilon_gamma\n",
    "varespilon_gamma_text = r'$\\varepsilon_{\\scriptscriptstyle \\gamma}$'\n",
    "varespilon_gamma_x = low_left_corner_1[0]+0.5\n",
    "varespilon_gamma_y = low_left_corner_1[1]+0.5\n",
    "ax.text(varespilon_gamma_x,varespilon_gamma_y, varespilon_gamma_text , color=black_code, fontsize=30, ha='center', va='center')\n",
    "###Draw the second arrow \n",
    "#Define the initial position of the arrow\n",
    "arrow_2_x_in = varespilon_gamma_x+0.7\n",
    "arrow_2_y_in = varespilon_gamma_y\n",
    "arrow_2_in = (arrow_2_x_in, arrow_2_y_in )\n",
    "#Define the Final position of the arrow\n",
    "arrow_2_x_out = arrow_2_x_in + 0.7\n",
    "arrow_2_y_out = arrow_2_y_in\n",
    "arrow_2_out = (arrow_2_x_out, arrow_2_y_out )\n",
    "arrow = FancyArrowPatch(arrow_2_in, arrow_2_out, arrowstyle='-', mutation_scale=20, \n",
    "                        color=black_code, linewidth=2.5)\n",
    "ax.add_patch(arrow)\n",
    "###Draw rho_gamma text\n",
    "rho_gamma_x = arrow_2_x_out+0.3\n",
    "rho_gamma_y = arrow_2_y_out\n",
    "rho_gamma_text = r'$\\rho_{\\scriptscriptstyle\\gamma}$'\n",
    "ax.text(rho_gamma_x,rho_gamma_y, rho_gamma_text, color=black_code, fontsize=30, ha='center', va='center')\n",
    "###Draw the third arrow\n",
    "#Define the initial position of the arrow\n",
    "arrow_3_x_in = rho_gamma_x+0.3\n",
    "arrow_3_y_in = rho_gamma_y\n",
    "arrow_3_in = (arrow_3_x_in, arrow_3_y_in )\n",
    "#Define the Final position of the arrow\n",
    "arrow_3_x_out = arrow_3_x_in + 0.7\n",
    "arrow_3_y_out = arrow_3_y_in\n",
    "arrow_3_out = (arrow_3_x_out, arrow_3_y_out )\n",
    "arrow = FancyArrowPatch(arrow_3_in, arrow_3_out, arrowstyle='-', mutation_scale=20, \n",
    "                        color=black_code, linewidth=2.5)\n",
    "ax.add_patch(arrow)\n",
    "####Draw the measurement Symbols\n",
    "##Draw the box\n",
    "#Low left corner\n",
    "low_left_corner_1 = (arrow_3_x_out, arrow_3_y_out-0.5) \n",
    "width_1 = 1\n",
    "height_1 = 1\n",
    "rect = patches.Rectangle(low_left_corner_1, width_1, height_1 , linewidth=2.5, edgecolor=black_code, facecolor='none')\n",
    "ax.add_patch(rect)\n",
    "\n",
    "##Draw the circle\n",
    "center_circle_x = arrow_3_x_out + 0.45\n",
    "center_circle_y = arrow_3_y_out - 0.1\n",
    "center_circle = (center_circle_x, center_circle_y)\n",
    "closed_semicircle = Arc(center_circle, 0.6,0.6 , theta1=0, theta2=180, facecolor='none', edgecolor='black')\n",
    "ax.add_patch(closed_semicircle)\n",
    "##Draw the arrow\n",
    "angle = np.pi/4\n",
    "end_x = center_circle_x + 0.65 * np.cos(angle)\n",
    "end_y = center_circle_y+ 0.65 * np.sin(angle)\n",
    "end_arrow_measurement = (end_x, end_y)\n",
    "# Draw an arrow at 33 degrees from the center of the semicircle\n",
    "arrow = FancyArrowPatch((center_circle_x, center_circle_y), end_arrow_measurement, arrowstyle='->', mutation_scale=20, \n",
    "                        color=black_code, linewidth=2.5)\n",
    "ax.add_patch(arrow)\n"
   ]
  }
 ],
 "metadata": {
  "kernelspec": {
   "display_name": "Python 3 (ipykernel)",
   "language": "python",
   "name": "python3"
  },
  "language_info": {
   "codemirror_mode": {
    "name": "ipython",
    "version": 3
   },
   "file_extension": ".py",
   "mimetype": "text/x-python",
   "name": "python",
   "nbconvert_exporter": "python",
   "pygments_lexer": "ipython3",
   "version": "3.10.10"
  }
 },
 "nbformat": 4,
 "nbformat_minor": 5
}
